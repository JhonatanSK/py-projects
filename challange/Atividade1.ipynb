{
  "nbformat": 4,
  "nbformat_minor": 0,
  "metadata": {
    "colab": {
      "name": "Atividade1.ipynb",
      "provenance": [],
      "collapsed_sections": []
    },
    "kernelspec": {
      "name": "python3",
      "display_name": "Python 3"
    }
  },
  "cells": [
    {
      "cell_type": "markdown",
      "metadata": {
        "id": "QxElBB1jP0Rr",
        "colab_type": "text"
      },
      "source": [
        ""
      ]
    },
    {
      "cell_type": "markdown",
      "metadata": {
        "id": "wQP_LGxNP4Ai",
        "colab_type": "text"
      },
      "source": [
        "#Exercicio 1\n"
      ]
    },
    {
      "cell_type": "code",
      "metadata": {
        "id": "QiMtDTZ8P6GZ",
        "colab_type": "code",
        "colab": {
          "base_uri": "https://localhost:8080/",
          "height": 34
        },
        "outputId": "1e7f06a1-36de-4def-84c2-71a8ab5bfc7b"
      },
      "source": [
        "#a)Faça um programa que recebe três números reais e exibe a multiplicação desses números.\n",
        "def multiplicar(a,b,c):\n",
        "  return a * b * c\n",
        "\n",
        "print(multiplicar(2,2,2))"
      ],
      "execution_count": 2,
      "outputs": [
        {
          "output_type": "stream",
          "text": [
            "8\n"
          ],
          "name": "stdout"
        }
      ]
    },
    {
      "cell_type": "markdown",
      "metadata": {
        "id": "SHI8SkT5QPJh",
        "colab_type": "text"
      },
      "source": [
        "#Exercicio 2"
      ]
    },
    {
      "cell_type": "code",
      "metadata": {
        "id": "7c4hsoQuQSd8",
        "colab_type": "code",
        "colab": {
          "base_uri": "https://localhost:8080/",
          "height": 34
        },
        "outputId": "8a98ebf0-0b08-47da-e71a-84d67185894c"
      },
      "source": [
        "#Faça um programa que recebe as notas P1, P2 e P3 e exibe a média considerando que a nota P1 tem peso 3, a nota P2 tem peso 3 e a nota P3 tem peso 4\n",
        "def notas(p1,p2,p3):\n",
        "  peso1 = 3\n",
        "  peso2 = 3\n",
        "  peso3 = 4\n",
        "\n",
        "  p1 = peso1 * p1\n",
        "  p2 = peso2 * p2\n",
        "  p3 = peso3 * p3\n",
        "\n",
        "  return (p1+p2+p3) / 10\n",
        "\n",
        "print(notas(3,3,5))"
      ],
      "execution_count": 5,
      "outputs": [
        {
          "output_type": "stream",
          "text": [
            "3.8\n"
          ],
          "name": "stdout"
        }
      ]
    },
    {
      "cell_type": "markdown",
      "metadata": {
        "id": "gz71xjDkRgT8",
        "colab_type": "text"
      },
      "source": [
        "#Exercicio 3"
      ]
    },
    {
      "cell_type": "code",
      "metadata": {
        "id": "Eh568GldRrVN",
        "colab_type": "code",
        "colab": {
          "base_uri": "https://localhost:8080/",
          "height": 34
        },
        "outputId": "93feccf4-f48c-412b-b418-620e89048e8d"
      },
      "source": [
        "# d)Faça um programa que lê o salário base de alguém e exibe o novo salário, considerando 5% de gratificação(mais dinheiro) e 7% de impostos(menos dinheiro)sobre o salário base. Também exiba a gratificação e o imposto.\n",
        "\n",
        "def calcular_salario(salario):\n",
        "  return (salario+(salario*0.05)-(salario*0.07))\n",
        "\n",
        "print(calcular_salario(5000), 'Gratificação {0}%'.format(5), 'Impostos {0}%'.format(7))\n"
      ],
      "execution_count": 7,
      "outputs": [
        {
          "output_type": "stream",
          "text": [
            "4900.0 Gratificação 5% Impostos 7%\n"
          ],
          "name": "stdout"
        }
      ]
    }
  ]
}
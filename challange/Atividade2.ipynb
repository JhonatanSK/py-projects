{
  "nbformat": 4,
  "nbformat_minor": 0,
  "metadata": {
    "colab": {
      "name": "Atividade2.ipynb",
      "provenance": []
    },
    "kernelspec": {
      "name": "python3",
      "display_name": "Python 3"
    }
  },
  "cells": [
    {
      "cell_type": "markdown",
      "metadata": {
        "id": "wBxkR5PVVJX-",
        "colab_type": "text"
      },
      "source": [
        "#Exercicio 1 \n"
      ]
    },
    {
      "cell_type": "code",
      "metadata": {
        "id": "8s23PboEU_q7",
        "colab_type": "code",
        "colab": {
          "base_uri": "https://localhost:8080/",
          "height": 34
        },
        "outputId": "d4ea63b7-e178-4a22-afa1-bc4f4e464243"
      },
      "source": [
        "# a) Faça um programa que recebe duas notas, exibe a média aritmética das notas e uma mensagem indicando se o aluno foi aprovado ou reprovado. \n",
        "#A média para aprovação deve ser maior que seis.\n",
        "\n",
        "def notas(a,b):\n",
        "  total = (a+b)/2\n",
        "\n",
        "  if(total > 6):\n",
        "    return \"Aprovado\"\n",
        "  return \"Reprovado\"\n",
        "\n",
        "print(notas(5,8))"
      ],
      "execution_count": 2,
      "outputs": [
        {
          "output_type": "stream",
          "text": [
            "Aprovado\n"
          ],
          "name": "stdout"
        }
      ]
    },
    {
      "cell_type": "markdown",
      "metadata": {
        "id": "uXYBSydBVrl2",
        "colab_type": "text"
      },
      "source": [
        "#Exercicio 2"
      ]
    },
    {
      "cell_type": "code",
      "metadata": {
        "id": "pGkqtiCAVvFq",
        "colab_type": "code",
        "colab": {
          "base_uri": "https://localhost:8080/",
          "height": 34
        },
        "outputId": "8d6975b9-f32e-4b43-a89d-1bd60631e5d7"
      },
      "source": [
        "#c) Faça um programa que recebe dois números inteiros distintos e exibe o maior.\n",
        "\n",
        "def exibir_maior(a,b):\n",
        "  if(a > b):\n",
        "    return a\n",
        "  return b\n",
        "\n",
        "print(exibir_maior(1,4))"
      ],
      "execution_count": 5,
      "outputs": [
        {
          "output_type": "stream",
          "text": [
            "4\n"
          ],
          "name": "stdout"
        }
      ]
    },
    {
      "cell_type": "markdown",
      "metadata": {
        "id": "qpRiFFJFWNK5",
        "colab_type": "text"
      },
      "source": [
        "#Exercicio 3"
      ]
    },
    {
      "cell_type": "code",
      "metadata": {
        "id": "RFQ1_ZoNWPqH",
        "colab_type": "code",
        "colab": {
          "base_uri": "https://localhost:8080/",
          "height": 35
        },
        "outputId": "1a6804e1-47bf-4b63-d415-62d2bdd0f764"
      },
      "source": [
        "#e) Faça um programa que recebe um número inteiro e exibe uma mensagem indicando se ele é par ou ímpar \n",
        "#(use o operador % para obter o resto de uma divisão inteira).\n",
        "\n",
        "def verificar_par(a):\n",
        "  if (a % 2 == 0):\n",
        "    return \"Par\"\n",
        "  return \"Impar\"\n",
        "\n",
        "verificar_par(1)"
      ],
      "execution_count": 7,
      "outputs": [
        {
          "output_type": "execute_result",
          "data": {
            "application/vnd.google.colaboratory.intrinsic+json": {
              "type": "string"
            },
            "text/plain": [
              "'Impar'"
            ]
          },
          "metadata": {
            "tags": []
          },
          "execution_count": 7
        }
      ]
    }
  ]
}
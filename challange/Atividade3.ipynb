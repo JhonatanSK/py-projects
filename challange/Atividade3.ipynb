{
  "nbformat": 4,
  "nbformat_minor": 0,
  "metadata": {
    "colab": {
      "name": "Atividade3.ipynb",
      "provenance": []
    },
    "kernelspec": {
      "name": "python3",
      "display_name": "Python 3"
    }
  },
  "cells": [
    {
      "cell_type": "markdown",
      "metadata": {
        "id": "XQJjMWKfaHxS",
        "colab_type": "text"
      },
      "source": [
        "#Exercicio 1"
      ]
    },
    {
      "cell_type": "code",
      "metadata": {
        "id": "TtjAb7a5YZ9p",
        "colab_type": "code",
        "colab": {
          "base_uri": "https://localhost:8080/",
          "height": 85
        },
        "outputId": "8cd1ddda-8f43-4c3a-a7bf-11bdf7439624"
      },
      "source": [
        "#b) [while] Elabore um programa que recebe valores naturais até que seja digitado o valor zero. O programa deverá exibir a média aritmética. \n",
        "#Lembre-se: o valor zero apenas sinaliza o fim da entrada, não deve ser contabilizado.\n",
        "\n",
        "def media():\n",
        "  cont = 0\n",
        "  media = 0\n",
        "  boolean = True\n",
        "  while(boolean):\n",
        "    a = int(input(\"\"))\n",
        "    if(a == 0):\n",
        "      boolean = False\n",
        "      break\n",
        "    media = media + a\n",
        "    cont = cont +1\n",
        "    \n",
        "\n",
        "  return (media/cont)\n",
        "\n",
        "media()\n",
        "\n"
      ],
      "execution_count": 12,
      "outputs": [
        {
          "output_type": "stream",
          "text": [
            "3\n",
            "6\n",
            "0\n"
          ],
          "name": "stdout"
        },
        {
          "output_type": "execute_result",
          "data": {
            "text/plain": [
              "4.5"
            ]
          },
          "metadata": {
            "tags": []
          },
          "execution_count": 12
        }
      ]
    },
    {
      "cell_type": "markdown",
      "metadata": {
        "id": "4_9Xz5rfecP2",
        "colab_type": "text"
      },
      "source": [
        "#Exercicio 2"
      ]
    },
    {
      "cell_type": "code",
      "metadata": {
        "id": "zzj8wgoJeeGZ",
        "colab_type": "code",
        "colab": {
          "base_uri": "https://localhost:8080/",
          "height": 187
        },
        "outputId": "032a654d-cb67-463c-8b9c-234cf2b47425"
      },
      "source": [
        "# e) [for] Desenvolva um programa que exibe a tabuada de um número natural escolhido pelo usuário. Os múltiplos apresentados devem ser de 1 a 10.\n",
        "def calcular_multiplo(n):\n",
        "  for i in range(1, 11):\n",
        "    print('{0} x {1} = {2}'.format(i, n, (i*n)))\n",
        "    \n",
        "calcular_multiplo(10)"
      ],
      "execution_count": 20,
      "outputs": [
        {
          "output_type": "stream",
          "text": [
            "1 x 10 = 10\n",
            "2 x 10 = 20\n",
            "3 x 10 = 30\n",
            "4 x 10 = 40\n",
            "5 x 10 = 50\n",
            "6 x 10 = 60\n",
            "7 x 10 = 70\n",
            "8 x 10 = 80\n",
            "9 x 10 = 90\n",
            "10 x 10 = 100\n"
          ],
          "name": "stdout"
        }
      ]
    },
    {
      "cell_type": "markdown",
      "metadata": {
        "id": "cz7vGX62YhVP",
        "colab_type": "text"
      },
      "source": [
        ""
      ]
    },
    {
      "cell_type": "markdown",
      "metadata": {
        "id": "6b2MP-hQesiu",
        "colab_type": "text"
      },
      "source": [
        "#Exercicio 3\n"
      ]
    },
    {
      "cell_type": "code",
      "metadata": {
        "id": "ez9iyn5geuYm",
        "colab_type": "code",
        "colab": {
          "base_uri": "https://localhost:8080/",
          "height": 51
        },
        "outputId": "bedf0fc0-ddd6-4e91-8205-25f2dcdadcc6"
      },
      "source": [
        "# g) [for] Faça um programa que lê um número natural e exibe o fatorial desse número. Lembre-se: 5! é 120, porque 5 × 4 × 3 × 2 × 1 = 120. Use um acumulador e um contador dentro de um laço de repetição.\n",
        "def fatorial():\n",
        "  numero = int(input(\"Fatorial de: \") )\n",
        "\n",
        "  resultado=1\n",
        "  for n in range(1,numero+1):\n",
        "      resultado *= n\n",
        "\n",
        "  print(resultado)\n",
        "\n",
        "fatorial()"
      ],
      "execution_count": 13,
      "outputs": [
        {
          "output_type": "stream",
          "text": [
            "Fatorial de: 5\n",
            "120\n"
          ],
          "name": "stdout"
        }
      ]
    }
  ]
}